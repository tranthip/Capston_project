{
 "cells": [
  {
   "cell_type": "markdown",
   "metadata": {},
   "source": [
    "# Data"
   ]
  },
  {
   "cell_type": "markdown",
   "metadata": {},
   "source": [
    "We need data include:\n",
    "* the list of neighborhoods New York city from https://cocl.us/new_york_dataset\n",
    "* the list of neighborhoods Toronto city from https://en.wikipedia.org/wiki/List_of_postal_codes_of_Canada:_M\n",
    "* the list of neighborhoods Paris city that is given\n",
    "\n",
    "For each city, we use the Google maps API to search the latitude and longitude of each neighborhoods.\n",
    "\n",
    "Top of venues for each neighborhood is collected by using Foursquare API."
   ]
  },
  {
   "cell_type": "code",
   "execution_count": null,
   "metadata": {},
   "outputs": [],
   "source": []
  }
 ],
 "metadata": {
  "kernelspec": {
   "display_name": "Python 3",
   "language": "python",
   "name": "python3"
  },
  "language_info": {
   "codemirror_mode": {
    "name": "ipython",
    "version": 3
   },
   "file_extension": ".py",
   "mimetype": "text/x-python",
   "name": "python",
   "nbconvert_exporter": "python",
   "pygments_lexer": "ipython3",
   "version": "3.6.5"
  }
 },
 "nbformat": 4,
 "nbformat_minor": 2
}
