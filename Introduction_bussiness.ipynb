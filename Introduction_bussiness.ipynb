{
 "cells": [
  {
   "cell_type": "markdown",
   "metadata": {},
   "source": [
    "# Capstone project"
   ]
  },
  {
   "cell_type": "markdown",
   "metadata": {},
   "source": [
    "# Introduction: Businesss Problem"
   ]
  },
  {
   "cell_type": "markdown",
   "metadata": {},
   "source": [
    "In this project, we suppose our client is working in New York and get two offres of jobs in Toronto and Paris. He want to choose the city that have more similar to New York to work. We will measure the similarity among New York, Toronto and Paris based on the clusters. First, for each city, we divide the set of neighborhoods into clusters, then assign each cluster with the name by using the top of venues. Seconde, we consider the clusters of each city to see which city Paris or Toronto is more similar to New York."
   ]
  }
 ],
 "metadata": {
  "kernelspec": {
   "display_name": "Python 3",
   "language": "python",
   "name": "python3"
  },
  "language_info": {
   "codemirror_mode": {
    "name": "ipython",
    "version": 3
   },
   "file_extension": ".py",
   "mimetype": "text/x-python",
   "name": "python",
   "nbconvert_exporter": "python",
   "pygments_lexer": "ipython3",
   "version": "3.6.5"
  }
 },
 "nbformat": 4,
 "nbformat_minor": 2
}
